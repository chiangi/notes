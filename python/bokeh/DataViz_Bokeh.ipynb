{
 "cells": [
  {
   "cell_type": "markdown",
   "metadata": {},
   "source": [
    "### Data Viz - Bokeh package"
   ]
  },
  {
   "cell_type": "code",
   "execution_count": 11,
   "metadata": {},
   "outputs": [
    {
     "name": "stderr",
     "output_type": "stream",
     "text": [
      "E-1010 (CDSVIEW_SOURCE_DOESNT_MATCH): CDSView used by Glyph renderer must have a source that matches the Glyph renderer's data source: GlyphRenderer(id='1be4bf20-1dfa-47d4-8ab2-7c1ebafe1fbd', ...)\n",
      "E-1010 (CDSVIEW_SOURCE_DOESNT_MATCH): CDSView used by Glyph renderer must have a source that matches the Glyph renderer's data source: GlyphRenderer(id='5ef8c3e8-2434-463d-86ac-6b1938cfff32', ...)\n"
     ]
    }
   ],
   "source": [
    "from bkcharts import Scatter, output_file, show\n",
    "import pandas as pd\n",
    "\n",
    "df = pandas.DataFrame(columns=[\"X\", \"Y\"])\n",
    "df[\"X\"] = [1, 2, 3, 4, 5]\n",
    "df[\"Y\"] = [5, 6, 4, 5, 3]\n",
    "\n",
    "p = Scatter(df, x=\"X\", y=\"Y\", title=\"Temperature Obvservations\", xlabel=\"Day of observations\", ylabel=\"Temperature\")\n",
    "\n",
    "output_file(\"Scatter_charts.html\")\n",
    "\n",
    "show(p)"
   ]
  },
  {
   "cell_type": "code",
   "execution_count": 9,
   "metadata": {},
   "outputs": [
    {
     "name": "stderr",
     "output_type": "stream",
     "text": [
      "E-1010 (CDSVIEW_SOURCE_DOESNT_MATCH): CDSView used by Glyph renderer must have a source that matches the Glyph renderer's data source: GlyphRenderer(id='1be4bf20-1dfa-47d4-8ab2-7c1ebafe1fbd', ...)\n"
     ]
    }
   ],
   "source": [
    "from bokeh.plotting import figure, output_file, show\n",
    "\n",
    "p = figure(plot_width=500, plot_height=400)\n",
    "\n",
    "p.title.text = \"Earthquakes\"\n",
    "p.title.text_color=\"Blue\"\n",
    "\n",
    "p.xaxis.axis_label = \"Times\"\n",
    "p.yaxis.axis_label = \"Value\"\n",
    "p.yaxis.minor_tick_line_color = \"Yellow\"\n",
    "\n",
    "p.circle([1,2,3,4,5],[5,6,5,5,3],size=[i*2 for i in [6,8,12,13,18]],color=\"red\",alpha=0.5) #alpha for transparency\n",
    "\n",
    "output_file(\"Scatter_plotting.html\")\n",
    "show(p)"
   ]
  },
  {
   "cell_type": "code",
   "execution_count": 14,
   "metadata": {},
   "outputs": [
    {
     "data": {
      "text/plain": [
       "pandas.core.series.Series"
      ]
     },
     "execution_count": 14,
     "metadata": {},
     "output_type": "execute_result"
    }
   ],
   "source": [
    "# exercise example using Pandas to plot Bokeh\n",
    "\n",
    "df = pd.read_excel(\"verlegenhuken.xlsx\", sheetname=0)\n",
    "temp = df[\"Temperature\"] / 10\n",
    "pressure = df[\"Pressure\"] / 10\n",
    "type(temp)"
   ]
  },
  {
   "cell_type": "code",
   "execution_count": 26,
   "metadata": {
    "scrolled": true
   },
   "outputs": [
    {
     "name": "stderr",
     "output_type": "stream",
     "text": [
      "E-1010 (CDSVIEW_SOURCE_DOESNT_MATCH): CDSView used by Glyph renderer must have a source that matches the Glyph renderer's data source: GlyphRenderer(id='1be4bf20-1dfa-47d4-8ab2-7c1ebafe1fbd', ...)\n",
      "E-1010 (CDSVIEW_SOURCE_DOESNT_MATCH): CDSView used by Glyph renderer must have a source that matches the Glyph renderer's data source: GlyphRenderer(id='5ef8c3e8-2434-463d-86ac-6b1938cfff32', ...)\n",
      "E-1001 (BAD_COLUMN_NAME): Glyph refers to nonexistent column name: 1F77B4 [renderer: GlyphRenderer(id='0e4dfa60-db71-43b2-941f-880f5329a633', ...)]\n",
      "E-1001 (BAD_COLUMN_NAME): Glyph refers to nonexistent column name: strong blue [renderer: GlyphRenderer(id='acbf7ca7-781d-40d7-bb53-1f81117bc696', ...)]\n",
      "E-1001 (BAD_COLUMN_NAME): Glyph refers to nonexistent column name: strongblue [renderer: GlyphRenderer(id='2c98db78-aaba-419a-b2b5-6b56104209e3', ...)]\n"
     ]
    }
   ],
   "source": [
    "\n",
    "g = figure(plot_width=500, plot_height=400)\n",
    "g.title.text = \"Temperature and Air Pressure\"\n",
    "g.title.text_font_style=\"bold\"\n",
    "g.xaxis.axis_label = \"Temperature (°C)\"\n",
    "g.yaxis.axis_label = \"Pressure (hPa)\"\n",
    "\n",
    "g.circle(temp, pressure, size=1, color=\"#1F77B4\")\n",
    "output_file(\"TempPress_Plot.html\")\n",
    "show(g)"
   ]
  },
  {
   "cell_type": "code",
   "execution_count": 28,
   "metadata": {},
   "outputs": [
    {
     "name": "stderr",
     "output_type": "stream",
     "text": [
      "E-1010 (CDSVIEW_SOURCE_DOESNT_MATCH): CDSView used by Glyph renderer must have a source that matches the Glyph renderer's data source: GlyphRenderer(id='1be4bf20-1dfa-47d4-8ab2-7c1ebafe1fbd', ...)\n",
      "E-1010 (CDSVIEW_SOURCE_DOESNT_MATCH): CDSView used by Glyph renderer must have a source that matches the Glyph renderer's data source: GlyphRenderer(id='5ef8c3e8-2434-463d-86ac-6b1938cfff32', ...)\n",
      "E-1001 (BAD_COLUMN_NAME): Glyph refers to nonexistent column name: 1F77B4 [renderer: GlyphRenderer(id='0e4dfa60-db71-43b2-941f-880f5329a633', ...)]\n",
      "E-1001 (BAD_COLUMN_NAME): Glyph refers to nonexistent column name: strong blue [renderer: GlyphRenderer(id='acbf7ca7-781d-40d7-bb53-1f81117bc696', ...)]\n",
      "E-1001 (BAD_COLUMN_NAME): Glyph refers to nonexistent column name: strongblue [renderer: GlyphRenderer(id='2c98db78-aaba-419a-b2b5-6b56104209e3', ...)]\n"
     ]
    }
   ],
   "source": [
    "from bkcharts import Scatter, output_file, show\n",
    "import pandas as pd\n",
    "\n",
    "df2 = pd.read_csv(\"http://www.google.com/finance/historical?q=NASDAQ:ADBE&startdate=Jan+01%2C+2009&enddate=Aug+2%2C+2012&output=csv\", parse_dates=[\"Date\"])\n",
    "\n",
    "p2 = figure(width=500, height=300, x_axis_type=\"datetime\", responsive=True)\n",
    "p2.line(df2[\"Date\"], df2[\"Close\"], color=\"Orange\", alpha=0.5)\n",
    "output_file(\"Timeseries.html\")\n",
    "show(p2)"
   ]
  }
 ],
 "metadata": {
  "kernelspec": {
   "display_name": "Python 3",
   "language": "python",
   "name": "python3"
  },
  "language_info": {
   "codemirror_mode": {
    "name": "ipython",
    "version": 3
   },
   "file_extension": ".py",
   "mimetype": "text/x-python",
   "name": "python",
   "nbconvert_exporter": "python",
   "pygments_lexer": "ipython3",
   "version": "3.6.1"
  }
 },
 "nbformat": 4,
 "nbformat_minor": 2
}
